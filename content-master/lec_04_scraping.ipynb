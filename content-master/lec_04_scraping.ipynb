{
 "cells": [
  {
   "cell_type": "markdown",
   "metadata": {},
   "source": [
    "# Scraping Demo\n",
    "Companion to Lecture 4 of Harvard [CS109: Data Science](http://cs109.org)\n"
   ]
  },
  {
   "cell_type": "code",
   "execution_count": 35,
   "metadata": {
    "collapsed": false
   },
   "outputs": [],
   "source": [
    "import requests\n",
    "from pattern import web\n",
    "from BeautifulSoup import BeautifulSoup"
   ]
  },
  {
   "cell_type": "markdown",
   "metadata": {},
   "source": [
    "# Task\n",
    "\n",
    "Find and print the movie title, list of genres, runtime, and score of all movies on [this page](http://www.imdb.com/search/title?at=0&sort=num_votes,desc&start=1&title_type=feature&year=1950,2012)"
   ]
  },
  {
   "cell_type": "markdown",
   "metadata": {},
   "source": [
    "### Two ways of making get requests"
   ]
  },
  {
   "cell_type": "markdown",
   "metadata": {},
   "source": [
    "#### 1. Explicit URL"
   ]
  },
  {
   "cell_type": "code",
   "execution_count": 36,
   "metadata": {
    "collapsed": false
   },
   "outputs": [
    {
     "name": "stdout",
     "output_type": "stream",
     "text": [
      "http://www.imdb.com/search/title?sort=num_votes,desc&start=1&title_type=feature&year=1950,2012\n"
     ]
    }
   ],
   "source": [
    "url = 'http://www.imdb.com/search/title?sort=num_votes,desc&start=1&title_type=feature&year=1950,2012'\n",
    "r = requests.get(url)\n",
    "print r.url\n",
    "#print r.text"
   ]
  },
  {
   "cell_type": "code",
   "execution_count": 31,
   "metadata": {
    "collapsed": false
   },
   "outputs": [
    {
     "name": "stdout",
     "output_type": "stream",
     "text": [
      "http://www.imdb.com/search/title?sort=num_votes,desc&start=1&title_type=feature&year=2010,2015\n"
     ]
    }
   ],
   "source": [
    "url = 'http://www.imdb.com/search/title?sort=num_votes,desc&start=1&title_type=feature&year=2010,2015'\n",
    "r = requests.get(url)\n",
    "print r.url"
   ]
  },
  {
   "cell_type": "markdown",
   "metadata": {},
   "source": [
    "#### 2. Base URL with GET dictionary"
   ]
  },
  {
   "cell_type": "code",
   "execution_count": 32,
   "metadata": {
    "collapsed": false
   },
   "outputs": [
    {
     "name": "stdout",
     "output_type": "stream",
     "text": [
      "http://www.imdb.com/search/title?sort=num_votes%2Cdesc&start=1&title_type=feature&year=1950%2C2012\n"
     ]
    }
   ],
   "source": [
    "url = 'http://www.imdb.com/search/title'\n",
    "params = dict(sort='num_votes,desc', start=1, title_type='feature', year='1950,2012')\n",
    "r = requests.get(url, params=params)\n",
    "print r.url  # notice it constructs the full url for you"
   ]
  },
  {
   "cell_type": "markdown",
   "metadata": {},
   "source": [
    "# Using Pattern"
   ]
  },
  {
   "cell_type": "code",
   "execution_count": 43,
   "metadata": {
    "collapsed": false
   },
   "outputs": [],
   "source": [
    "#selection in pattern follows the rules of CSS\n",
    "\n",
    "dom = web.Element(r.text)\n",
    "for movie in dom.by_tag('td.title'):    \n",
    "    title = movie.by_tag('a')[0].content\n",
    "    genres = movie.by_tag('span.genre')[0].by_tag('a')\n",
    "    genres = [g.content for g in genres]\n",
    "    runtime = movie.by_tag('span.runtime')[0].content\n",
    "    rating = movie.by_tag('span.value')[0].content\n",
    "    print title, genres, runtime, rating\n",
    "print "
   ]
  },
  {
   "cell_type": "markdown",
   "metadata": {},
   "source": [
    "# Using BeautifulSoup"
   ]
  },
  {
   "cell_type": "code",
   "execution_count": 44,
   "metadata": {
    "collapsed": false
   },
   "outputs": [],
   "source": [
    "bs = BeautifulSoup(r.text)\n",
    "for movie in bs.findAll('td', 'title'):\n",
    "    title = movie.find('a').contents[0]\n",
    "    genres = movie.find('span', 'genre').findAll('a')\n",
    "    genres = [g.contents[0] for g in genres]\n",
    "    runtime = movie.find('span', 'runtime').contents[0]\n",
    "    rating = movie.find('span', 'value').contents[0]\n",
    "    year = movie.find('span','year_type').contents[0]\n",
    "    imdbID = movie.find('span','rating-cancel').a['href'].split('/')[2]\n",
    "    print title, genres,runtime, rating, year, imdvid"
   ]
  },
  {
   "cell_type": "code",
   "execution_count": null,
   "metadata": {
    "collapsed": true
   },
   "outputs": [],
   "source": []
  }
 ],
 "metadata": {
  "kernelspec": {
   "display_name": "Python 2",
   "language": "python",
   "name": "python2"
  },
  "language_info": {
   "codemirror_mode": {
    "name": "ipython",
    "version": 2
   },
   "file_extension": ".py",
   "mimetype": "text/x-python",
   "name": "python",
   "nbconvert_exporter": "python",
   "pygments_lexer": "ipython2",
   "version": "2.7.11"
  }
 },
 "nbformat": 4,
 "nbformat_minor": 0
}
